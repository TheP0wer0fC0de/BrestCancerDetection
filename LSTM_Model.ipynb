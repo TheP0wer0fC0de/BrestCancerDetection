{
  "nbformat": 4,
  "nbformat_minor": 0,
  "metadata": {
    "colab": {
      "name": "LSTM_Model.ipynb",
      "provenance": [],
      "collapsed_sections": []
    },
    "kernelspec": {
      "name": "python3",
      "display_name": "Python 3"
    },
    "language_info": {
      "name": "python"
    },
    "accelerator": "GPU"
  },
  "cells": [
    {
      "cell_type": "markdown",
      "metadata": {
        "id": "h6qn30ED_TxN"
      },
      "source": [
        "***RNN Model - LSTM***\n",
        "\n",
        "Reference: OMKAR MODI https://www.kaggle.com/omkarmodi/inceptionv3-feature-extraction/notebook"
      ]
    },
    {
      "cell_type": "code",
      "metadata": {
        "id": "onAowYj1CCYQ"
      },
      "source": [
        "#This Program imports a dataset obtained from Kaggle\n",
        "#https://www.kaggle.com/aryashah2k/breast-ultrasound-images-dataset\n",
        "#It then classifies the Ultrasound Images as benign, malignant, or normal\n",
        "\n",
        "import numpy as np # linear algebra\n",
        "import pandas as pd # data processing\n",
        "\n",
        "import os"
      ],
      "execution_count": 1,
      "outputs": []
    },
    {
      "cell_type": "code",
      "metadata": {
        "colab": {
          "base_uri": "https://localhost:8080/"
        },
        "id": "gc-LR6RQCIyW",
        "outputId": "5b3b6d1c-c29c-4702-8624-30dbb7da251e"
      },
      "source": [
        "pip install openpyxl"
      ],
      "execution_count": 2,
      "outputs": [
        {
          "output_type": "stream",
          "name": "stdout",
          "text": [
            "Requirement already satisfied: openpyxl in /usr/local/lib/python3.7/dist-packages (2.5.9)\n",
            "Requirement already satisfied: jdcal in /usr/local/lib/python3.7/dist-packages (from openpyxl) (1.4.1)\n",
            "Requirement already satisfied: et-xmlfile in /usr/local/lib/python3.7/dist-packages (from openpyxl) (1.1.0)\n"
          ]
        }
      ]
    },
    {
      "cell_type": "code",
      "metadata": {
        "id": "3VUa5dwxCI09"
      },
      "source": [
        "from tensorflow import keras\n",
        "import cv2\n",
        "from tensorflow.keras.preprocessing.image import load_img ,img_to_array\n",
        "import matplotlib.pyplot as plt\n",
        "from tensorflow.keras import Model\n",
        "from tensorflow.keras.models import Sequential \n",
        "from tensorflow.keras.layers import Conv2D\n",
        "from tensorflow.keras.layers import MaxPooling2D,AveragePooling2D,BatchNormalization\n",
        "from tensorflow.keras.layers import Dense,Activation\n",
        "from tensorflow.keras.layers import Flatten,Dropout,SpatialDropout2D,AveragePooling2D,GlobalAveragePooling2D\n",
        "from tensorflow.keras.optimizers import SGD\n",
        "from tensorflow.keras.optimizers import Adam\n",
        "import tensorflow as tf\n",
        "from tensorflow.keras.callbacks import EarlyStopping, ModelCheckpoint"
      ],
      "execution_count": 3,
      "outputs": []
    },
    {
      "cell_type": "code",
      "metadata": {
        "colab": {
          "base_uri": "https://localhost:8080/"
        },
        "id": "0aTur7OOCI3y",
        "outputId": "ca5d0fc8-affb-41aa-fd9f-e934863c483f"
      },
      "source": [
        "from google.colab import drive\n",
        "drive.mount('/content/drive')"
      ],
      "execution_count": 4,
      "outputs": [
        {
          "output_type": "stream",
          "name": "stdout",
          "text": [
            "Mounted at /content/drive\n"
          ]
        }
      ]
    },
    {
      "cell_type": "code",
      "metadata": {
        "colab": {
          "base_uri": "https://localhost:8080/"
        },
        "id": "eghgbYA2CI6e",
        "outputId": "28d710af-2ad2-4a49-cce8-3c3d15a06f86"
      },
      "source": [
        "#Import dataset\n",
        "path = \"drive/MyDrive/EE258 Project/Dataset_BUSI_with_GT\"\n",
        "dir_list = [os.path.join(path,i) for i in os.listdir(path)]\n",
        "size_dict = {}\n",
        "for i,value in enumerate(dir_list):\n",
        "    size_dict[os.listdir(path)[i]] = len(os.listdir(value))\n",
        "size_dict "
      ],
      "execution_count": 5,
      "outputs": [
        {
          "output_type": "execute_result",
          "data": {
            "text/plain": [
              "{'benign': 891, 'malignant': 421, 'normal': 266}"
            ]
          },
          "metadata": {},
          "execution_count": 5
        }
      ]
    },
    {
      "cell_type": "code",
      "metadata": {
        "id": "khFNFZaTCI9L"
      },
      "source": [
        "import re\n",
        "def clean(name):\n",
        "    name = re.sub('[benign ().p]','',str(name))\n",
        "    return name"
      ],
      "execution_count": 6,
      "outputs": []
    },
    {
      "cell_type": "code",
      "metadata": {
        "colab": {
          "base_uri": "https://localhost:8080/"
        },
        "id": "3o7CcsOHCI_T",
        "outputId": "88424b9a-1c18-4f10-b728-b5813474f145"
      },
      "source": [
        "df = pd.DataFrame(os.listdir(dir_list[0]))\n",
        "\n",
        "df = df[0].apply(clean)\n",
        "\n",
        "df = df[~df.str.contains('mask',regex =False)]\n",
        "\n",
        "df_list = list(df)\n",
        "type(df_list)\n",
        "df_list.sort()\n",
        "print(len(df_list))"
      ],
      "execution_count": 7,
      "outputs": [
        {
          "output_type": "stream",
          "name": "stdout",
          "text": [
            "133\n"
          ]
        }
      ]
    },
    {
      "cell_type": "code",
      "metadata": {
        "id": "uKQZHNX4CJBv"
      },
      "source": [
        "#image size\n",
        "img_size = 128\n",
        "img_channel = 3\n",
        "#sets X as a blank matrix of zeros\n",
        "#y is the actual matrix of the images\n",
        "X_b , Xm_b , y_b = np.zeros((437,img_size,img_size,img_channel)) , np.zeros((437,img_size,img_size,img_channel)) , np.full(437,'benign') \n",
        "X_n , Xm_n , y_n = np.zeros((133,img_size,img_size,img_channel)) , np.zeros((133,img_size,img_size,img_channel)) , np.full(133,'normal') \n",
        "X_m , Xm_m , y_m = np.zeros((210,img_size,img_size,img_channel)) , np.zeros((210,img_size,img_size,img_channel)) , np.full(210,'malignant')"
      ],
      "execution_count": 8,
      "outputs": []
    },
    {
      "cell_type": "code",
      "metadata": {
        "colab": {
          "base_uri": "https://localhost:8080/"
        },
        "id": "NzO1K9qdCJEG",
        "outputId": "b03ee605-1565-4f22-b96a-10bd351adf3f"
      },
      "source": [
        "#this block pairs the maked with the ultrasound image\n",
        "img1_path = os.path.join(os.path.join(path,'benign'),os.listdir(os.path.join(path,'benign'))[1])\n",
        "\n",
        "pil_img = load_img(img1_path,color_mode = 'rgb',target_size=(img_size,img_size))\n",
        "img = img_to_array(pil_img)\n",
        "img_shape = img.shape\n",
        "print(img_shape)\n",
        "\n",
        "def img_num(filename):\n",
        "    \n",
        "    val = 0\n",
        "    #this loop looks for image numbers and matches Ultrasound image with masked image\n",
        "    for i in range(len(filename)) :\n",
        "        if filename[i] == '(' :\n",
        "            while True :\n",
        "                i += 1\n",
        "                if filename[i] == ')' :\n",
        "                    break\n",
        "                val = (val*10) + int(filename[i])\n",
        "            break\n",
        "    \n",
        "    return val\n",
        "#separates ultrasound and masked images\n",
        "for tumor_path in dir_list :\n",
        "    for image in os.listdir(tumor_path) :\n",
        "        p = os.path.join(tumor_path, image)\n",
        "        pil_img = load_img(p,color_mode = 'rgb',target_size=(img_size,img_size))         # read image as grayscale and resize it\n",
        "        \n",
        "        if image[-5] == ')' :                                   #if real image \n",
        "            #Ultrasound images\n",
        "            if image[0] == 'b' :\n",
        "                X_b[img_num(image)-1]+= img_to_array(pil_img)  # If image is real add it\n",
        "            if image[0] == 'n' :                               # to X as benign , normal\n",
        "                X_n[img_num(image)-1]+= img_to_array(pil_img)  # or malignant.\n",
        "            if image[0] == 'm' :\n",
        "                X_m[img_num(image)-1]+= img_to_array(pil_img)\n",
        "        else :                                                 #else masked image\n",
        "            #masked image\n",
        "            if image[0] == 'b' :\n",
        "                Xm_b[img_num(image)-1]+= img_to_array(pil_img)  # Similarly add the target\n",
        "            if image[0] == 'n' :                               # mask to y.\n",
        "                Xm_n[img_num(image)-1]+= img_to_array(pil_img)\n",
        "            if image[0] == 'm' :\n",
        "                Xm_m[img_num(image)-1]+= img_to_array(pil_img)"
      ],
      "execution_count": 9,
      "outputs": [
        {
          "output_type": "stream",
          "name": "stdout",
          "text": [
            "(128, 128, 3)\n"
          ]
        }
      ]
    },
    {
      "cell_type": "code",
      "metadata": {
        "colab": {
          "base_uri": "https://localhost:8080/"
        },
        "id": "2cw6ECJTWn_j",
        "outputId": "f66645fd-ed2b-4953-fe16-d9d871f2c078"
      },
      "source": [
        "#combining sorted images into matricies\n",
        "X = np.concatenate((X_b, X_n, X_m), axis = 0) #combining real images into real image matrix {real_b, real_n, real_m}\n",
        "Xm = np.concatenate((Xm_b, Xm_n, Xm_m), axis = 0) #masked array\n",
        "\n",
        "#0 is black, 255 is white\n",
        "\n",
        "y = np.concatenate((y_b, y_n, y_m), axis = 0) #lables\n",
        "\n",
        "print(X.shape)  #Ultrasound image matrix\n",
        "print(Xm.shape) #masked image matrix\n",
        "print(y.shape)  #actual \n",
        "#look at max and min \n",
        "print(X.max())\n",
        "print(X.min())\n",
        "print(Xm.max())\n",
        "print(Xm.min())\n",
        "\n",
        "#normalize to max value\n",
        "X /= 255.0\n",
        "\n",
        "#normalize to max value\n",
        "Xm /= 510.0\n",
        "#combine Ulatrasound Image with Mask\n",
        "X_combined=X*Xm\n",
        "\n",
        "#look at max and min \n",
        "print(X.max())\n",
        "print(Xm.min())\n",
        "print(X_combined.max())\n",
        "print(X_combined.min())\n",
        "#look at type\n",
        "type(y)"
      ],
      "execution_count": 48,
      "outputs": [
        {
          "output_type": "stream",
          "name": "stdout",
          "text": [
            "(780, 128, 128, 3)\n",
            "(780, 128, 128, 3)\n",
            "(780,)\n",
            "255.0\n",
            "0.0\n",
            "510.0\n",
            "0.0\n",
            "1.0\n",
            "0.0\n",
            "0.5\n",
            "0.0\n"
          ]
        },
        {
          "output_type": "execute_result",
          "data": {
            "text/plain": [
              "numpy.ndarray"
            ]
          },
          "metadata": {},
          "execution_count": 48
        }
      ]
    },
    {
      "cell_type": "code",
      "metadata": {
        "colab": {
          "base_uri": "https://localhost:8080/",
          "height": 331
        },
        "id": "AQZOic0sCJI0",
        "outputId": "b20f145c-d2b8-445a-a17b-50e90472f64a"
      },
      "source": [
        "#Plot Bar Graph\n",
        "\n",
        "digit_train, counts_train = np.unique(y_m, return_counts = True)\n",
        "digit_train1, counts_train1 = np.unique(y_b, return_counts = True)\n",
        "digit_train2, counts_train2 = np.unique(y_n, return_counts = True)\n",
        "\n",
        "distribution_train = dict(zip(digit_train, counts_train))\n",
        "print(distribution_train)\n",
        "\n",
        "distribution_train1 = dict(zip(digit_train1, counts_train1))\n",
        "print(distribution_train1)\n",
        "\n",
        "distribution_train2 = dict(zip(digit_train2, counts_train2))\n",
        "print(distribution_train2)\n",
        "\n",
        "plt.bar(list(distribution_train.keys()),distribution_train.values(),width=0.6)\n",
        "plt.bar(list(distribution_train1.keys()),distribution_train1.values(),width=0.6)\n",
        "plt.bar(list(distribution_train2.keys()),distribution_train2.values(),width=0.6)\n",
        "plt.xlabel('Diagnosis of tumor')\n",
        "plt.ylabel('counts')\n",
        "plt.show()"
      ],
      "execution_count": 49,
      "outputs": [
        {
          "output_type": "stream",
          "name": "stdout",
          "text": [
            "{'malignant': 210}\n",
            "{'benign': 437}\n",
            "{'normal': 133}\n"
          ]
        },
        {
          "output_type": "display_data",
          "data": {
            "image/png": "[encoded data removed]",
            "text/plain": [
              "<Figure size 432x288 with 1 Axes>"
            ]
          },
          "metadata": {
            "needs_background": "light"
          }
        }
      ]
    },
    {
      "cell_type": "code",
      "metadata": {
        "colab": {
          "base_uri": "https://localhost:8080/"
        },
        "id": "LDyeR9yQCJK9",
        "outputId": "94a9d177-ffff-40ba-a1f4-49a24b653a2d"
      },
      "source": [
        "#Model Improvements LSTM\n",
        "#Test Train Split\n",
        "\n",
        "from sklearn.model_selection import train_test_split\n",
        "from sklearn.preprocessing import OneHotEncoder\n",
        "\n",
        "encoder  = OneHotEncoder()\n",
        "# y = y.toarray()\n",
        "y=encoder.fit_transform(y.reshape(y.shape[0],1))\n",
        "\n",
        "# origonal ultrasound image \n",
        "#test train split is 3/20 (0.15)\n",
        "X_train,X_test,y_train,y_test = train_test_split(X,y,test_size = 0.15,shuffle=True,random_state=42)\n",
        "#validation data split is 1/10 (0.1) --> 0.15\n",
        "X_train,X_val,y_train,y_val = train_test_split(X_train,y_train,test_size=0.1,random_state=42,stratify = y_train.toarray())\n",
        "\n",
        "#combined images\n",
        "#test train split is 3/20 (0.15)\n",
        "X_train_c,X_test_c,y_train_c,y_test_c = train_test_split(X_combined,y,test_size = 0.15,shuffle=True,random_state=42)\n",
        "#combined validation split\n",
        "X_train_c,X_val_c,y_train_c,y_val_c = train_test_split(X_train_c,y_train_c,test_size=0.1,random_state=42,stratify = y_train_c.toarray())\n",
        "\n",
        "#Masked image\n",
        "#test train split is 3/20 (0.15) \n",
        "Xm_train,Xm_test,ym_train,ym_test = train_test_split(Xm,y,test_size = 0.15,shuffle=True,random_state=42,stratify=y.toarray())\n",
        "#validation data split is 1/10 (0.1)\n",
        "Xm_train,Xm_val,ym_train,ym_val = train_test_split(Xm_train,ym_train,test_size=0.1,random_state=42,stratify = ym_train.toarray())\n",
        "\n",
        "class_list = encoder.categories_\n",
        "print(X_train.shape,X_test.shape)\n",
        "print(y_train.shape,y_test.shape)\n",
        "print(Xm_train.shape,Xm_test.shape)\n",
        "print(ym_train.shape,ym_test.shape)"
      ],
      "execution_count": 50,
      "outputs": [
        {
          "output_type": "stream",
          "name": "stdout",
          "text": [
            "(596, 128, 128, 3) (117, 128, 128, 3)\n",
            "(596, 3) (117, 3)\n",
            "(596, 128, 128, 3) (117, 128, 128, 3)\n",
            "(596, 3) (117, 3)\n"
          ]
        }
      ]
    },
    {
      "cell_type": "code",
      "metadata": {
        "id": "Nl-uAZrtEFFH"
      },
      "source": [
        "#Function for making a training validation plot\n",
        "\n",
        "import matplotlib.pyplot as plt\n",
        "def Train_Val_Plot(acc,val_acc,loss,val_loss):\n",
        "    \n",
        "    fig, (ax1, ax2) = plt.subplots(1,2, figsize= (15,10))\n",
        "    fig.suptitle(\" MODEL'S METRICS VISUALIZATION \")\n",
        "\n",
        "    ax1.plot(range(1, len(acc) + 1), acc)\n",
        "    ax1.plot(range(1, len(val_acc) + 1), val_acc)\n",
        "    ax1.set_title('History of Accuracy')\n",
        "    ax1.set_xlabel('Epochs')\n",
        "    ax1.set_ylabel('Accuracy')\n",
        "    ax1.legend(['training', 'validation'])\n",
        "\n",
        "\n",
        "    ax2.plot(range(1, len(loss) + 1), loss)\n",
        "    ax2.plot(range(1, len(val_loss) + 1), val_loss)\n",
        "    ax2.set_title('History of Loss')\n",
        "    ax2.set_xlabel('Epochs')\n",
        "    ax2.set_ylabel('Loss')\n",
        "    ax2.legend(['training', 'validation'])\n",
        "    plt.show()"
      ],
      "execution_count": 51,
      "outputs": []
    },
    {
      "cell_type": "code",
      "metadata": {
        "id": "c0m8dZY5CJNK"
      },
      "source": [
        "#New Base Model - InceptionV3\n",
        "base_model = tf.keras.applications.InceptionV3(\n",
        "    include_top=False,\n",
        "    weights=\"imagenet\",\n",
        "    input_tensor=None,\n",
        "    input_shape=img_shape,\n",
        "    pooling=None\n",
        ")\n",
        "\n",
        "X_feat_out = base_model.output\n",
        "X_feat_flatten = Flatten()(X_feat_out)\n",
        "\n",
        "X_feat_model = Model(inputs = base_model.input,outputs = X_feat_flatten)\n",
        "X_feat_train = X_feat_model.predict(X_train)\n",
        "X_feat_val = X_feat_model.predict(X_val)\n",
        "X_feat_test = X_feat_model.predict(X_test)\n",
        "\n",
        "Xm_feat_train = X_feat_model.predict(Xm_train)\n",
        "Xm_feat_val = X_feat_model.predict(Xm_val)\n",
        "Xm_feat_test = X_feat_model.predict(Xm_test)"
      ],
      "execution_count": 52,
      "outputs": []
    },
    {
      "cell_type": "code",
      "metadata": {
        "id": "kf9RsjBtCJPg"
      },
      "source": [
        "from sklearn.pipeline import Pipeline\n",
        "from sklearn.svm import SVC\n",
        "from sklearn.ensemble import RandomForestClassifier\n",
        "from sklearn.ensemble import AdaBoostClassifier\n",
        "from sklearn.neighbors import KNeighborsClassifier\n",
        "from xgboost import XGBClassifier\n",
        "from sklearn.ensemble import BaggingClassifier\n",
        "from sklearn.neural_network import MLPClassifier\n",
        "from tensorflow.keras.layers import LSTM,Bidirectional,Reshape\n",
        "from sklearn.metrics import accuracy_score,recall_score,precision_score,f1_score,roc_auc_score,cohen_kappa_score"
      ],
      "execution_count": 53,
      "outputs": []
    },
    {
      "cell_type": "code",
      "metadata": {
        "id": "r9BHcrCbCJRz"
      },
      "source": [
        "df = pd.DataFrame(columns = ['classifier',\"train_accuracy\",'val_accuracy',\"test_accuracy\",\"f1_measure\",\"kappa_score\",\"recall\",\"Precision\"])"
      ],
      "execution_count": 54,
      "outputs": []
    },
    {
      "cell_type": "code",
      "metadata": {
        "id": "Q9I_c5EACJUL"
      },
      "source": [
        "def eval(classifier_name,y_train,y_train_pred,y_val,y_val_pred,y_true,y_pred):\n",
        "    y_train = np.argmax(y_train,axis=1)\n",
        "\n",
        "    y_val = np.argmax(y_val,axis=1)\n",
        "\n",
        "    y_true = np.argmax(y_true,axis=1)\n",
        "\n",
        "    train_accuracy = round(accuracy_score(y_train,y_train_pred),4)\n",
        "    val_accuracy = round(accuracy_score(y_val,y_val_pred),4)\n",
        "    test_accuracy = round(accuracy_score(y_true,y_pred),4)\n",
        "    f1_measure = round(f1_score(y_true,y_pred,average='weighted'),4)\n",
        "    kappa_score = round(cohen_kappa_score(y_true,y_pred),4)\n",
        "    recall = round(recall_score(y_true,y_pred,average='weighted'),4)\n",
        "    precision = round(precision_score(y_true,y_pred,average='weighted'),4)\n",
        "    \n",
        "    score = {\"classifier\":classifier_name,\"train_accuracy\":train_accuracy , \"val_accuracy\":val_accuracy,\"test_accuracy\":test_accuracy,\"f1_measure\":f1_measure,\"kappa_score\":kappa_score,\"recall\":recall,\"precision\":precision}\n",
        "\n",
        "    df.loc[len(df.index)] = score.values()\n",
        "    for e,a in score.items():\n",
        "        print(e,a)\n",
        "    print(\"--\"*20)"
      ],
      "execution_count": 55,
      "outputs": []
    },
    {
      "cell_type": "code",
      "metadata": {
        "id": "_IxVaeXyCJWO"
      },
      "source": [
        "def classifier_eval(classifier,classifier_name,X_train,y_train,X_val,y_val,X_test,y_test):\n",
        "    \n",
        "    classifier.fit(X_train,np.argmax(y_train,axis=1))\n",
        "    \n",
        "    y_train_pred = classifier.predict(X_train)\n",
        "    y_val_pred = classifier.predict(X_val)\n",
        "    y_test_pred = classifier.predict(X_test)\n",
        "    \n",
        "    eval(classifier_name,y_train,y_train_pred,y_val,y_val_pred,y_test,y_test_pred)"
      ],
      "execution_count": 56,
      "outputs": []
    },
    {
      "cell_type": "code",
      "metadata": {
        "id": "kGWatCopEhHq"
      },
      "source": [
        "for l in base_model.layers:\n",
        "    l.trainable = False"
      ],
      "execution_count": 57,
      "outputs": []
    },
    {
      "cell_type": "code",
      "metadata": {
        "id": "jt3tFiXtEhKP",
        "colab": {
          "base_uri": "https://localhost:8080/"
        },
        "outputId": "c3d4acd5-e006-433a-f93f-a9979ed9ab0a"
      },
      "source": [
        "#LSTM Model\n",
        "lstm_model = Sequential()\n",
        "lstm_model.add(base_model)\n",
        "lstm_model.add(Reshape((base_model.output.shape[1]*base_model.output.shape[2],base_model.output.shape[3])))\n",
        "lstm_model.add(LSTM(128, dropout=0.5,recurrent_dropout=0.5))\n",
        "lstm_model.add(Dense(3,activation='softmax'))\n",
        "\n",
        "lstm_model.compile(optimizer='adam',loss='categorical_crossentropy',metrics=['acc'])"
      ],
      "execution_count": 58,
      "outputs": [
        {
          "output_type": "stream",
          "name": "stdout",
          "text": [
            "WARNING:tensorflow:Layer lstm_4 will not use cuDNN kernels since it doesn't meet the criteria. It will use a generic GPU kernel as fallback when running on GPU.\n"
          ]
        }
      ]
    },
    {
      "cell_type": "code",
      "metadata": {
        "id": "6IN3mclREhPx"
      },
      "source": [
        "from tensorflow.keras.callbacks import EarlyStopping, ModelCheckpoint\n",
        "es = EarlyStopping(monitor='val_loss', mode='min', patience=4,restore_best_weights=True, verbose=1)"
      ],
      "execution_count": 59,
      "outputs": []
    },
    {
      "cell_type": "code",
      "metadata": {
        "id": "vMOx4LPLE-QG",
        "colab": {
          "base_uri": "https://localhost:8080/",
          "height": 1000
        },
        "outputId": "37633e96-5ecc-426e-e30d-f1554607dc03"
      },
      "source": [
        "#Training the LSTM model\n",
        "history = lstm_model.fit(X_train_c,y_train_c.toarray(),epochs = 20,validation_data = (X_val_c,y_val_c.toarray()),callbacks = [es])\n",
        "lstm_train_predict = np.argmax(lstm_model.predict(X_train_c),axis=1)\n",
        "lstm_val_predict = np.argmax(lstm_model.predict(X_val_c),axis=1)\n",
        "lstm_test_predict = np.argmax(lstm_model.predict(X_test_c),axis=1)\n",
        "eval(\"LSTM\",y_train_c,lstm_train_predict,y_val_c,lstm_val_predict,y_test_c,lstm_test_predict)\n",
        "#Plot Graph\n",
        "Train_Val_Plot(history.history['acc'],history.history['val_acc'],history.history['loss'],history.history['val_loss'])"
      ],
      "execution_count": 60,
      "outputs": [
        {
          "output_type": "stream",
          "name": "stdout",
          "text": [
            "Epoch 1/20\n",
            "19/19 [==============================] - 12s 227ms/step - loss: 0.3249 - acc: 0.8574 - val_loss: 0.1706 - val_acc: 0.9403\n",
            "Epoch 2/20\n",
            "19/19 [==============================] - 2s 108ms/step - loss: 0.1308 - acc: 0.9513 - val_loss: 0.1481 - val_acc: 0.9552\n",
            "Epoch 3/20\n",
            "19/19 [==============================] - 2s 106ms/step - loss: 0.0960 - acc: 0.9681 - val_loss: 0.1437 - val_acc: 0.9701\n",
            "Epoch 4/20\n",
            "19/19 [==============================] - 2s 107ms/step - loss: 0.0830 - acc: 0.9732 - val_loss: 0.1359 - val_acc: 0.9701\n",
            "Epoch 5/20\n",
            "19/19 [==============================] - 2s 108ms/step - loss: 0.0611 - acc: 0.9782 - val_loss: 0.1229 - val_acc: 0.9701\n",
            "Epoch 6/20\n",
            "19/19 [==============================] - 2s 99ms/step - loss: 0.0449 - acc: 0.9916 - val_loss: 0.1439 - val_acc: 0.9552\n",
            "Epoch 7/20\n",
            "19/19 [==============================] - 2s 98ms/step - loss: 0.0272 - acc: 0.9950 - val_loss: 0.1316 - val_acc: 0.9403\n",
            "Epoch 8/20\n",
            "19/19 [==============================] - 2s 105ms/step - loss: 0.0235 - acc: 0.9933 - val_loss: 0.1266 - val_acc: 0.9701\n",
            "Epoch 9/20\n",
            "19/19 [==============================] - ETA: 0s - loss: 0.0157 - acc: 0.9983Restoring model weights from the end of the best epoch: 5.\n",
            "19/19 [==============================] - 2s 108ms/step - loss: 0.0157 - acc: 0.9983 - val_loss: 0.1484 - val_acc: 0.9552\n",
            "Epoch 00009: early stopping\n",
            "classifier LSTM\n",
            "train_accuracy 0.995\n",
            "val_accuracy 0.9701\n",
            "test_accuracy 0.9658\n",
            "f1_measure 0.9654\n",
            "kappa_score 0.9442\n",
            "recall 0.9658\n",
            "precision 0.968\n",
            "----------------------------------------\n"
          ]
        },
        {
          "output_type": "display_data",
          "data": {
            "image/png": "[encoded data removed]",
            "text/plain": [
              "<Figure size 1080x720 with 2 Axes>"
            ]
          },
          "metadata": {
            "needs_background": "light"
          }
        }
      ]
    },
    {
      "cell_type": "code",
      "metadata": {
        "id": "bRPfVaWKE-SW",
        "colab": {
          "base_uri": "https://localhost:8080/"
        },
        "outputId": "aed4b797-93b0-4f4d-c221-b382514145c1"
      },
      "source": [
        "import numpy as np\n",
        "from sklearn.metrics import classification_report, confusion_matrix\n",
        "import numpy as np\n",
        "\n",
        "rounded_labels=np.argmax(y_test_c, axis=1)\n",
        "rounded_labels[1]\n",
        "print('Confusion Matrix of LSTM Model')\n",
        "print(confusion_matrix(lstm_test_predict, rounded_labels))\n",
        "print('   b, m, n')\n"
      ],
      "execution_count": 61,
      "outputs": [
        {
          "output_type": "stream",
          "name": "stdout",
          "text": [
            "Confusion Matrix of LSTM Model\n",
            "[[58  4  0]\n",
            " [ 0 33  0]\n",
            " [ 0  0 22]]\n",
            "   b, m, n\n"
          ]
        }
      ]
    },
    {
      "cell_type": "markdown",
      "metadata": {
        "id": "bldtKxpN9Mnk"
      },
      "source": [
        "***Now Try a Bi-Directional LSTM MODEL***"
      ]
    },
    {
      "cell_type": "code",
      "metadata": {
        "colab": {
          "base_uri": "https://localhost:8080/"
        },
        "id": "JKT-0tQi3N1F",
        "outputId": "69494d19-9d6d-425e-b497-ecbc9dd273a2"
      },
      "source": [
        "#Bi-Dirrectional LSTM Model \n",
        "bidir_model = Sequential()\n",
        "bidir_model.add(base_model)\n",
        "bidir_model.add(Reshape((base_model.output.shape[1]*base_model.output.shape[2],base_model.output.shape[3])))\n",
        "bidir_model.add(Bidirectional(LSTM(128, dropout=0.5,recurrent_dropout=0.5)))\n",
        "bidir_model.add(Dense(3,activation='softmax'))\n",
        "\n",
        "bidir_model.compile(optimizer='adam',loss='categorical_crossentropy',metrics=['acc'])"
      ],
      "execution_count": 62,
      "outputs": [
        {
          "output_type": "stream",
          "name": "stdout",
          "text": [
            "WARNING:tensorflow:Layer lstm_5 will not use cuDNN kernels since it doesn't meet the criteria. It will use a generic GPU kernel as fallback when running on GPU.\n",
            "WARNING:tensorflow:Layer lstm_5 will not use cuDNN kernels since it doesn't meet the criteria. It will use a generic GPU kernel as fallback when running on GPU.\n",
            "WARNING:tensorflow:Layer lstm_5 will not use cuDNN kernels since it doesn't meet the criteria. It will use a generic GPU kernel as fallback when running on GPU.\n"
          ]
        }
      ]
    },
    {
      "cell_type": "code",
      "metadata": {
        "id": "eRJoUf_SE-Uy",
        "colab": {
          "base_uri": "https://localhost:8080/",
          "height": 1000
        },
        "outputId": "f033c11d-8135-45e9-8666-5b9075850fc7"
      },
      "source": [
        "#Train Bi-Directional LSTM Model\n",
        "history = bidir_model.fit(X_train_c,y_train_c.toarray(),epochs = 20,validation_data = (X_val,y_val_c.toarray()),callbacks = [es])\n",
        "bidir_train_predict = np.argmax(bidir_model.predict(X_train_c),axis=1)\n",
        "bidir_val_predict = np.argmax(bidir_model.predict(X_val_c),axis=1)\n",
        "bidir_test_predict = np.argmax(bidir_model.predict(X_test_c),axis=1)\n",
        "eval(\"Bi-LSTM\",y_train_c,bidir_train_predict,y_val_c,bidir_val_predict,y_test_c,bidir_test_predict)\n",
        "#Plot Graph\n",
        "Train_Val_Plot(history.history['acc'],history.history['val_acc'],history.history['loss'],history.history['val_loss'])"
      ],
      "execution_count": 63,
      "outputs": [
        {
          "output_type": "stream",
          "name": "stdout",
          "text": [
            "Epoch 1/20\n",
            "19/19 [==============================] - 16s 263ms/step - loss: 0.2877 - acc: 0.8758 - val_loss: 1.4983 - val_acc: 0.6119\n",
            "Epoch 2/20\n",
            "19/19 [==============================] - 2s 131ms/step - loss: 0.1140 - acc: 0.9597 - val_loss: 2.0131 - val_acc: 0.5672\n",
            "Epoch 3/20\n",
            "19/19 [==============================] - 2s 128ms/step - loss: 0.0671 - acc: 0.9815 - val_loss: 1.6807 - val_acc: 0.5970\n",
            "Epoch 4/20\n",
            "19/19 [==============================] - 2s 128ms/step - loss: 0.0564 - acc: 0.9782 - val_loss: 1.9940 - val_acc: 0.5821\n",
            "Epoch 5/20\n",
            "19/19 [==============================] - ETA: 0s - loss: 0.0305 - acc: 0.9933Restoring model weights from the end of the best epoch: 1.\n",
            "19/19 [==============================] - 2s 132ms/step - loss: 0.0305 - acc: 0.9933 - val_loss: 1.9370 - val_acc: 0.5821\n",
            "Epoch 00005: early stopping\n",
            "classifier Bi-LSTM\n",
            "train_accuracy 0.9648\n",
            "val_accuracy 0.9403\n",
            "test_accuracy 0.9573\n",
            "f1_measure 0.9566\n",
            "kappa_score 0.9301\n",
            "recall 0.9573\n",
            "precision 0.9607\n",
            "----------------------------------------\n"
          ]
        },
        {
          "output_type": "display_data",
          "data": {
            "image/png": "[encoded data removed]",
            "text/plain": [
              "<Figure size 1080x720 with 2 Axes>"
            ]
          },
          "metadata": {
            "needs_background": "light"
          }
        }
      ]
    },
    {
      "cell_type": "code",
      "metadata": {
        "id": "ooGRSWvSE-XK",
        "colab": {
          "base_uri": "https://localhost:8080/"
        },
        "outputId": "f160270c-e465-4418-88d6-e6443fb08822"
      },
      "source": [
        "#Confusion Matrix \n",
        "#of Bidirectional LSTM Model\n",
        "\n",
        "print('Confusion Matrix of Bi-Directional Model')\n",
        "print(confusion_matrix(bidir_test_predict, rounded_labels))\n",
        "print('   b, m, n')"
      ],
      "execution_count": 64,
      "outputs": [
        {
          "output_type": "stream",
          "name": "stdout",
          "text": [
            "Confusion Matrix of Bi-Directional Model\n",
            "[[58  5  0]\n",
            " [ 0 32  0]\n",
            " [ 0  0 22]]\n",
            "   b, m, n\n"
          ]
        }
      ]
    },
    {
      "cell_type": "code",
      "metadata": {
        "id": "3sGMSCFlE-Zf"
      },
      "source": [
        ""
      ],
      "execution_count": 64,
      "outputs": []
    },
    {
      "cell_type": "code",
      "metadata": {
        "id": "dwdDx7-bE-bq"
      },
      "source": [
        ""
      ],
      "execution_count": 64,
      "outputs": []
    },
    {
      "cell_type": "code",
      "metadata": {
        "id": "EwBVwWhFE-dV"
      },
      "source": [
        ""
      ],
      "execution_count": 64,
      "outputs": []
    }
  ]
}